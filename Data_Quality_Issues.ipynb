{
  "nbformat": 4,
  "nbformat_minor": 0,
  "metadata": {
    "colab": {
      "provenance": []
    },
    "kernelspec": {
      "name": "python3",
      "display_name": "Python 3"
    },
    "language_info": {
      "name": "python"
    }
  },
  "cells": [
    {
      "cell_type": "markdown",
      "source": [
        "# **Fetch Assessment - Evaluating Data Quality Issues in the dataset**"
      ],
      "metadata": {
        "id": "aD00MTx2Qqgv"
      }
    },
    {
      "cell_type": "markdown",
      "source": [
        "## **Findings Summary**:\n",
        "### **Null Values:**\n",
        "\n",
        "* There are many null value columns present in all three datasets.\n",
        "* Some columns have over 50% null values, especially in the \"brands\" table, which could complicate preprocessing and analysis.\n",
        "* **Recommendation**: Decide on strategies to handle null values, such as imputation, removal of columns, or other techniques based on the analysis goals.\n",
        "\n",
        "### **Duplicates:**\n",
        "\n",
        "* The \"users\" table contains over 250 duplicate rows.\n",
        "* **Recommendation**: Remove duplicate rows from the \"users\" table to ensure data integrity.\n",
        "\n",
        "### **Receipt Table Issues:**\n",
        "\n",
        "* Upon manual inspection of the \"receipt\" table, additional data quality issues were identified.\n",
        "* A major issue is the absence of a column related to brands, which complicates joining with the \"brands\" table.\n",
        "* Another issue found is the presence of duplicate receipt items within a single receipt.\n",
        "* **Recommendation**:If possible, add a column related to brands in the \"receipt\" table for easier integration with the \"brands\" table and address the issue of duplicate receipt items, possibly by investigating their source and deciding on appropriate actions.\n",
        "\n",
        "### **Further Analysis:**\n",
        "\n",
        "Consider further exploratory data analysis to gain insights into relationships between tables and to understand the impact of data quality issues on analysis results."
      ],
      "metadata": {
        "id": "qEyUIrBixMk5"
      }
    },
    {
      "cell_type": "markdown",
      "source": [
        "### Users Dataset"
      ],
      "metadata": {
        "id": "XnQ2AtwCQ6Us"
      }
    },
    {
      "cell_type": "code",
      "execution_count": 1,
      "metadata": {
        "id": "3PI_BKu9f400"
      },
      "outputs": [],
      "source": [
        "# loading brands dataset\n",
        "import json\n",
        "import pandas as pd\n",
        "\n",
        "users = []\n",
        "with open('users.json', 'r') as file:\n",
        "    for line in file:\n",
        "        users.append(json.loads(line))\n",
        "\n",
        "user_df = pd.DataFrame(users)"
      ]
    },
    {
      "cell_type": "code",
      "source": [
        "# cheking columns with dictionary values\n",
        "for column in user_df.columns:\n",
        "    if user_df[column].apply(lambda x: isinstance(x, dict)).any():\n",
        "        print(f\"Column '{column}' contains dictionary values.\")"
      ],
      "metadata": {
        "colab": {
          "base_uri": "https://localhost:8080/"
        },
        "id": "pedhPX0agGPV",
        "outputId": "2008d9e4-f949-44ff-eb53-df083ab79470"
      },
      "execution_count": 2,
      "outputs": [
        {
          "output_type": "stream",
          "name": "stdout",
          "text": [
            "Column '_id' contains dictionary values.\n",
            "Column 'createdDate' contains dictionary values.\n",
            "Column 'lastLogin' contains dictionary values.\n"
          ]
        }
      ]
    },
    {
      "cell_type": "code",
      "source": [
        "# converting them to string for evaluating\n",
        "user_df[\"_id\"] = user_df[\"_id\"].apply(lambda x: str(x))\n",
        "user_df[\"createdDate\"] = user_df[\"createdDate\"].apply(lambda x: str(x))\n",
        "user_df[\"lastLogin\"] = user_df[\"lastLogin\"].apply(lambda x: str(x))"
      ],
      "metadata": {
        "id": "jga2DiV-gIxs"
      },
      "execution_count": 3,
      "outputs": []
    },
    {
      "cell_type": "code",
      "source": [
        "user_df.head()"
      ],
      "metadata": {
        "colab": {
          "base_uri": "https://localhost:8080/",
          "height": 206
        },
        "id": "OX1ohSFigK25",
        "outputId": "ba09e65f-e7ff-4d1d-fcc4-3340105ca8a3"
      },
      "execution_count": 4,
      "outputs": [
        {
          "output_type": "execute_result",
          "data": {
            "text/plain": [
              "                                    _id  active               createdDate  \\\n",
              "0  {'$oid': '5ff1e194b6a9d73a3a9f1052'}    True  {'$date': 1609687444800}   \n",
              "1  {'$oid': '5ff1e194b6a9d73a3a9f1052'}    True  {'$date': 1609687444800}   \n",
              "2  {'$oid': '5ff1e194b6a9d73a3a9f1052'}    True  {'$date': 1609687444800}   \n",
              "3  {'$oid': '5ff1e1eacfcf6c399c274ae6'}    True  {'$date': 1609687530554}   \n",
              "4  {'$oid': '5ff1e194b6a9d73a3a9f1052'}    True  {'$date': 1609687444800}   \n",
              "\n",
              "                  lastLogin      role signUpSource state  \n",
              "0  {'$date': 1609687537858}  consumer        Email    WI  \n",
              "1  {'$date': 1609687537858}  consumer        Email    WI  \n",
              "2  {'$date': 1609687537858}  consumer        Email    WI  \n",
              "3  {'$date': 1609687530597}  consumer        Email    WI  \n",
              "4  {'$date': 1609687537858}  consumer        Email    WI  "
            ],
            "text/html": [
              "\n",
              "  <div id=\"df-42bf16dd-1041-4ec3-8ff6-d54e9007db01\" class=\"colab-df-container\">\n",
              "    <div>\n",
              "<style scoped>\n",
              "    .dataframe tbody tr th:only-of-type {\n",
              "        vertical-align: middle;\n",
              "    }\n",
              "\n",
              "    .dataframe tbody tr th {\n",
              "        vertical-align: top;\n",
              "    }\n",
              "\n",
              "    .dataframe thead th {\n",
              "        text-align: right;\n",
              "    }\n",
              "</style>\n",
              "<table border=\"1\" class=\"dataframe\">\n",
              "  <thead>\n",
              "    <tr style=\"text-align: right;\">\n",
              "      <th></th>\n",
              "      <th>_id</th>\n",
              "      <th>active</th>\n",
              "      <th>createdDate</th>\n",
              "      <th>lastLogin</th>\n",
              "      <th>role</th>\n",
              "      <th>signUpSource</th>\n",
              "      <th>state</th>\n",
              "    </tr>\n",
              "  </thead>\n",
              "  <tbody>\n",
              "    <tr>\n",
              "      <th>0</th>\n",
              "      <td>{'$oid': '5ff1e194b6a9d73a3a9f1052'}</td>\n",
              "      <td>True</td>\n",
              "      <td>{'$date': 1609687444800}</td>\n",
              "      <td>{'$date': 1609687537858}</td>\n",
              "      <td>consumer</td>\n",
              "      <td>Email</td>\n",
              "      <td>WI</td>\n",
              "    </tr>\n",
              "    <tr>\n",
              "      <th>1</th>\n",
              "      <td>{'$oid': '5ff1e194b6a9d73a3a9f1052'}</td>\n",
              "      <td>True</td>\n",
              "      <td>{'$date': 1609687444800}</td>\n",
              "      <td>{'$date': 1609687537858}</td>\n",
              "      <td>consumer</td>\n",
              "      <td>Email</td>\n",
              "      <td>WI</td>\n",
              "    </tr>\n",
              "    <tr>\n",
              "      <th>2</th>\n",
              "      <td>{'$oid': '5ff1e194b6a9d73a3a9f1052'}</td>\n",
              "      <td>True</td>\n",
              "      <td>{'$date': 1609687444800}</td>\n",
              "      <td>{'$date': 1609687537858}</td>\n",
              "      <td>consumer</td>\n",
              "      <td>Email</td>\n",
              "      <td>WI</td>\n",
              "    </tr>\n",
              "    <tr>\n",
              "      <th>3</th>\n",
              "      <td>{'$oid': '5ff1e1eacfcf6c399c274ae6'}</td>\n",
              "      <td>True</td>\n",
              "      <td>{'$date': 1609687530554}</td>\n",
              "      <td>{'$date': 1609687530597}</td>\n",
              "      <td>consumer</td>\n",
              "      <td>Email</td>\n",
              "      <td>WI</td>\n",
              "    </tr>\n",
              "    <tr>\n",
              "      <th>4</th>\n",
              "      <td>{'$oid': '5ff1e194b6a9d73a3a9f1052'}</td>\n",
              "      <td>True</td>\n",
              "      <td>{'$date': 1609687444800}</td>\n",
              "      <td>{'$date': 1609687537858}</td>\n",
              "      <td>consumer</td>\n",
              "      <td>Email</td>\n",
              "      <td>WI</td>\n",
              "    </tr>\n",
              "  </tbody>\n",
              "</table>\n",
              "</div>\n",
              "    <div class=\"colab-df-buttons\">\n",
              "\n",
              "  <div class=\"colab-df-container\">\n",
              "    <button class=\"colab-df-convert\" onclick=\"convertToInteractive('df-42bf16dd-1041-4ec3-8ff6-d54e9007db01')\"\n",
              "            title=\"Convert this dataframe to an interactive table.\"\n",
              "            style=\"display:none;\">\n",
              "\n",
              "  <svg xmlns=\"http://www.w3.org/2000/svg\" height=\"24px\" viewBox=\"0 -960 960 960\">\n",
              "    <path d=\"M120-120v-720h720v720H120Zm60-500h600v-160H180v160Zm220 220h160v-160H400v160Zm0 220h160v-160H400v160ZM180-400h160v-160H180v160Zm440 0h160v-160H620v160ZM180-180h160v-160H180v160Zm440 0h160v-160H620v160Z\"/>\n",
              "  </svg>\n",
              "    </button>\n",
              "\n",
              "  <style>\n",
              "    .colab-df-container {\n",
              "      display:flex;\n",
              "      gap: 12px;\n",
              "    }\n",
              "\n",
              "    .colab-df-convert {\n",
              "      background-color: #E8F0FE;\n",
              "      border: none;\n",
              "      border-radius: 50%;\n",
              "      cursor: pointer;\n",
              "      display: none;\n",
              "      fill: #1967D2;\n",
              "      height: 32px;\n",
              "      padding: 0 0 0 0;\n",
              "      width: 32px;\n",
              "    }\n",
              "\n",
              "    .colab-df-convert:hover {\n",
              "      background-color: #E2EBFA;\n",
              "      box-shadow: 0px 1px 2px rgba(60, 64, 67, 0.3), 0px 1px 3px 1px rgba(60, 64, 67, 0.15);\n",
              "      fill: #174EA6;\n",
              "    }\n",
              "\n",
              "    .colab-df-buttons div {\n",
              "      margin-bottom: 4px;\n",
              "    }\n",
              "\n",
              "    [theme=dark] .colab-df-convert {\n",
              "      background-color: #3B4455;\n",
              "      fill: #D2E3FC;\n",
              "    }\n",
              "\n",
              "    [theme=dark] .colab-df-convert:hover {\n",
              "      background-color: #434B5C;\n",
              "      box-shadow: 0px 1px 3px 1px rgba(0, 0, 0, 0.15);\n",
              "      filter: drop-shadow(0px 1px 2px rgba(0, 0, 0, 0.3));\n",
              "      fill: #FFFFFF;\n",
              "    }\n",
              "  </style>\n",
              "\n",
              "    <script>\n",
              "      const buttonEl =\n",
              "        document.querySelector('#df-42bf16dd-1041-4ec3-8ff6-d54e9007db01 button.colab-df-convert');\n",
              "      buttonEl.style.display =\n",
              "        google.colab.kernel.accessAllowed ? 'block' : 'none';\n",
              "\n",
              "      async function convertToInteractive(key) {\n",
              "        const element = document.querySelector('#df-42bf16dd-1041-4ec3-8ff6-d54e9007db01');\n",
              "        const dataTable =\n",
              "          await google.colab.kernel.invokeFunction('convertToInteractive',\n",
              "                                                    [key], {});\n",
              "        if (!dataTable) return;\n",
              "\n",
              "        const docLinkHtml = 'Like what you see? Visit the ' +\n",
              "          '<a target=\"_blank\" href=https://colab.research.google.com/notebooks/data_table.ipynb>data table notebook</a>'\n",
              "          + ' to learn more about interactive tables.';\n",
              "        element.innerHTML = '';\n",
              "        dataTable['output_type'] = 'display_data';\n",
              "        await google.colab.output.renderOutput(dataTable, element);\n",
              "        const docLink = document.createElement('div');\n",
              "        docLink.innerHTML = docLinkHtml;\n",
              "        element.appendChild(docLink);\n",
              "      }\n",
              "    </script>\n",
              "  </div>\n",
              "\n",
              "\n",
              "<div id=\"df-377df388-c7e7-44cc-acd5-5fa643480a5b\">\n",
              "  <button class=\"colab-df-quickchart\" onclick=\"quickchart('df-377df388-c7e7-44cc-acd5-5fa643480a5b')\"\n",
              "            title=\"Suggest charts\"\n",
              "            style=\"display:none;\">\n",
              "\n",
              "<svg xmlns=\"http://www.w3.org/2000/svg\" height=\"24px\"viewBox=\"0 0 24 24\"\n",
              "     width=\"24px\">\n",
              "    <g>\n",
              "        <path d=\"M19 3H5c-1.1 0-2 .9-2 2v14c0 1.1.9 2 2 2h14c1.1 0 2-.9 2-2V5c0-1.1-.9-2-2-2zM9 17H7v-7h2v7zm4 0h-2V7h2v10zm4 0h-2v-4h2v4z\"/>\n",
              "    </g>\n",
              "</svg>\n",
              "  </button>\n",
              "\n",
              "<style>\n",
              "  .colab-df-quickchart {\n",
              "      --bg-color: #E8F0FE;\n",
              "      --fill-color: #1967D2;\n",
              "      --hover-bg-color: #E2EBFA;\n",
              "      --hover-fill-color: #174EA6;\n",
              "      --disabled-fill-color: #AAA;\n",
              "      --disabled-bg-color: #DDD;\n",
              "  }\n",
              "\n",
              "  [theme=dark] .colab-df-quickchart {\n",
              "      --bg-color: #3B4455;\n",
              "      --fill-color: #D2E3FC;\n",
              "      --hover-bg-color: #434B5C;\n",
              "      --hover-fill-color: #FFFFFF;\n",
              "      --disabled-bg-color: #3B4455;\n",
              "      --disabled-fill-color: #666;\n",
              "  }\n",
              "\n",
              "  .colab-df-quickchart {\n",
              "    background-color: var(--bg-color);\n",
              "    border: none;\n",
              "    border-radius: 50%;\n",
              "    cursor: pointer;\n",
              "    display: none;\n",
              "    fill: var(--fill-color);\n",
              "    height: 32px;\n",
              "    padding: 0;\n",
              "    width: 32px;\n",
              "  }\n",
              "\n",
              "  .colab-df-quickchart:hover {\n",
              "    background-color: var(--hover-bg-color);\n",
              "    box-shadow: 0 1px 2px rgba(60, 64, 67, 0.3), 0 1px 3px 1px rgba(60, 64, 67, 0.15);\n",
              "    fill: var(--button-hover-fill-color);\n",
              "  }\n",
              "\n",
              "  .colab-df-quickchart-complete:disabled,\n",
              "  .colab-df-quickchart-complete:disabled:hover {\n",
              "    background-color: var(--disabled-bg-color);\n",
              "    fill: var(--disabled-fill-color);\n",
              "    box-shadow: none;\n",
              "  }\n",
              "\n",
              "  .colab-df-spinner {\n",
              "    border: 2px solid var(--fill-color);\n",
              "    border-color: transparent;\n",
              "    border-bottom-color: var(--fill-color);\n",
              "    animation:\n",
              "      spin 1s steps(1) infinite;\n",
              "  }\n",
              "\n",
              "  @keyframes spin {\n",
              "    0% {\n",
              "      border-color: transparent;\n",
              "      border-bottom-color: var(--fill-color);\n",
              "      border-left-color: var(--fill-color);\n",
              "    }\n",
              "    20% {\n",
              "      border-color: transparent;\n",
              "      border-left-color: var(--fill-color);\n",
              "      border-top-color: var(--fill-color);\n",
              "    }\n",
              "    30% {\n",
              "      border-color: transparent;\n",
              "      border-left-color: var(--fill-color);\n",
              "      border-top-color: var(--fill-color);\n",
              "      border-right-color: var(--fill-color);\n",
              "    }\n",
              "    40% {\n",
              "      border-color: transparent;\n",
              "      border-right-color: var(--fill-color);\n",
              "      border-top-color: var(--fill-color);\n",
              "    }\n",
              "    60% {\n",
              "      border-color: transparent;\n",
              "      border-right-color: var(--fill-color);\n",
              "    }\n",
              "    80% {\n",
              "      border-color: transparent;\n",
              "      border-right-color: var(--fill-color);\n",
              "      border-bottom-color: var(--fill-color);\n",
              "    }\n",
              "    90% {\n",
              "      border-color: transparent;\n",
              "      border-bottom-color: var(--fill-color);\n",
              "    }\n",
              "  }\n",
              "</style>\n",
              "\n",
              "  <script>\n",
              "    async function quickchart(key) {\n",
              "      const quickchartButtonEl =\n",
              "        document.querySelector('#' + key + ' button');\n",
              "      quickchartButtonEl.disabled = true;  // To prevent multiple clicks.\n",
              "      quickchartButtonEl.classList.add('colab-df-spinner');\n",
              "      try {\n",
              "        const charts = await google.colab.kernel.invokeFunction(\n",
              "            'suggestCharts', [key], {});\n",
              "      } catch (error) {\n",
              "        console.error('Error during call to suggestCharts:', error);\n",
              "      }\n",
              "      quickchartButtonEl.classList.remove('colab-df-spinner');\n",
              "      quickchartButtonEl.classList.add('colab-df-quickchart-complete');\n",
              "    }\n",
              "    (() => {\n",
              "      let quickchartButtonEl =\n",
              "        document.querySelector('#df-377df388-c7e7-44cc-acd5-5fa643480a5b button');\n",
              "      quickchartButtonEl.style.display =\n",
              "        google.colab.kernel.accessAllowed ? 'block' : 'none';\n",
              "    })();\n",
              "  </script>\n",
              "</div>\n",
              "\n",
              "    </div>\n",
              "  </div>\n"
            ],
            "application/vnd.google.colaboratory.intrinsic+json": {
              "type": "dataframe",
              "variable_name": "user_df",
              "summary": "{\n  \"name\": \"user_df\",\n  \"rows\": 495,\n  \"fields\": [\n    {\n      \"column\": \"_id\",\n      \"properties\": {\n        \"dtype\": \"category\",\n        \"num_unique_values\": 212,\n        \"samples\": [\n          \"{'$oid': '5ff7930fb3348b11c93372a6'}\",\n          \"{'$oid': '60182f4ac8b50e11d8454946'}\",\n          \"{'$oid': '6011f31ea4b74c18d3a8c476'}\"\n        ],\n        \"semantic_type\": \"\",\n        \"description\": \"\"\n      }\n    },\n    {\n      \"column\": \"active\",\n      \"properties\": {\n        \"dtype\": \"boolean\",\n        \"num_unique_values\": 2,\n        \"samples\": [\n          false,\n          true\n        ],\n        \"semantic_type\": \"\",\n        \"description\": \"\"\n      }\n    },\n    {\n      \"column\": \"createdDate\",\n      \"properties\": {\n        \"dtype\": \"category\",\n        \"num_unique_values\": 212,\n        \"samples\": [\n          \"{'$date': 1610060559759}\",\n          \"{'$date': 1612197706573}\"\n        ],\n        \"semantic_type\": \"\",\n        \"description\": \"\"\n      }\n    },\n    {\n      \"column\": \"lastLogin\",\n      \"properties\": {\n        \"dtype\": \"category\",\n        \"num_unique_values\": 173,\n        \"samples\": [\n          \"{'$date': 1613060269893}\",\n          \"{'$date': 1610138857088}\"\n        ],\n        \"semantic_type\": \"\",\n        \"description\": \"\"\n      }\n    },\n    {\n      \"column\": \"role\",\n      \"properties\": {\n        \"dtype\": \"category\",\n        \"num_unique_values\": 2,\n        \"samples\": [\n          \"fetch-staff\",\n          \"consumer\"\n        ],\n        \"semantic_type\": \"\",\n        \"description\": \"\"\n      }\n    },\n    {\n      \"column\": \"signUpSource\",\n      \"properties\": {\n        \"dtype\": \"category\",\n        \"num_unique_values\": 2,\n        \"samples\": [\n          \"Google\",\n          \"Email\"\n        ],\n        \"semantic_type\": \"\",\n        \"description\": \"\"\n      }\n    },\n    {\n      \"column\": \"state\",\n      \"properties\": {\n        \"dtype\": \"category\",\n        \"num_unique_values\": 8,\n        \"samples\": [\n          \"KY\",\n          \"OH\"\n        ],\n        \"semantic_type\": \"\",\n        \"description\": \"\"\n      }\n    }\n  ]\n}"
            }
          },
          "metadata": {},
          "execution_count": 4
        }
      ]
    },
    {
      "cell_type": "code",
      "source": [
        "# Check for duplicate rows\n",
        "duplicate_rows = user_df[user_df.duplicated()]\n",
        "print(f\"Number of duplicate rows: {len(duplicate_rows)}\")\n",
        "\n",
        "# Check for missing values\n",
        "null_percent = round((user_df.isna().sum() / user_df.shape[0]) * 100, 2)\n",
        "print(null_percent)"
      ],
      "metadata": {
        "colab": {
          "base_uri": "https://localhost:8080/"
        },
        "id": "2kfdfJMzgNB5",
        "outputId": "0d66f9c6-6e7d-42ac-bc26-885c33258153"
      },
      "execution_count": 5,
      "outputs": [
        {
          "output_type": "stream",
          "name": "stdout",
          "text": [
            "Number of duplicate rows: 283\n",
            "_id              0.00\n",
            "active           0.00\n",
            "createdDate      0.00\n",
            "lastLogin        0.00\n",
            "role             0.00\n",
            "signUpSource     9.70\n",
            "state           11.31\n",
            "dtype: float64\n"
          ]
        }
      ]
    },
    {
      "cell_type": "markdown",
      "source": [
        "*   **From the above, we can see that state has around 11% and signupsource column has around 10% of null values present in them**\n",
        "*   **Also we can see around 283 duplicate values in this dataset**"
      ],
      "metadata": {
        "id": "mH04DRAVRuGe"
      }
    },
    {
      "cell_type": "markdown",
      "source": [
        "### Brands Dataset"
      ],
      "metadata": {
        "id": "_wjSrk-kRM2p"
      }
    },
    {
      "cell_type": "code",
      "source": [
        "# loading brands dataset\n",
        "brands = []\n",
        "with open('brands.json', 'r') as file:\n",
        "    for line in file:\n",
        "        brands.append(json.loads(line))\n",
        "\n",
        "brands_df = pd.DataFrame(brands)"
      ],
      "metadata": {
        "id": "kWtRqqWPgO49"
      },
      "execution_count": 6,
      "outputs": []
    },
    {
      "cell_type": "code",
      "source": [
        "# cheking columns with dictionary values\n",
        "for column in brands_df.columns:\n",
        "    if brands_df[column].apply(lambda x: isinstance(x, dict)).any():\n",
        "        print(f\"Column '{column}' contains dictionary values.\")"
      ],
      "metadata": {
        "colab": {
          "base_uri": "https://localhost:8080/"
        },
        "id": "Jfm8soFgg-kY",
        "outputId": "1d15a539-3ffa-4f4d-9b0c-1b87f6fe763e"
      },
      "execution_count": 13,
      "outputs": [
        {
          "output_type": "stream",
          "name": "stdout",
          "text": [
            "Column '_id' contains dictionary values.\n",
            "Column 'cpg' contains dictionary values.\n"
          ]
        }
      ]
    },
    {
      "cell_type": "code",
      "source": [
        "# converting them to string for evaluating\n",
        "brands_df[\"_id\"] = brands_df[\"_id\"].apply(lambda x: str(x))\n",
        "brands_df[\"cpg\"] = brands_df[\"cpg\"].apply(lambda x: str(x))"
      ],
      "metadata": {
        "id": "UTQDo3ephEl2"
      },
      "execution_count": 14,
      "outputs": []
    },
    {
      "cell_type": "code",
      "source": [
        "brands_df.head()"
      ],
      "metadata": {
        "colab": {
          "base_uri": "https://localhost:8080/",
          "height": 399
        },
        "id": "PpNjbsOwgxsH",
        "outputId": "6cd9ad0c-94ef-4f59-8270-3939d89fed14"
      },
      "execution_count": 15,
      "outputs": [
        {
          "output_type": "execute_result",
          "data": {
            "text/plain": [
              "                                    _id       barcode        category  \\\n",
              "0  {'$oid': '601ac115be37ce2ead437551'}  511111019862          Baking   \n",
              "1  {'$oid': '601c5460be37ce2ead43755f'}  511111519928       Beverages   \n",
              "2  {'$oid': '601ac142be37ce2ead43755d'}  511111819905          Baking   \n",
              "3  {'$oid': '601ac142be37ce2ead43755a'}  511111519874          Baking   \n",
              "4  {'$oid': '601ac142be37ce2ead43755e'}  511111319917  Candy & Sweets   \n",
              "\n",
              "       categoryCode                                                cpg  \\\n",
              "0            BAKING  {'$id': {'$oid': '601ac114be37ce2ead437550'}, ...   \n",
              "1         BEVERAGES  {'$id': {'$oid': '5332f5fbe4b03c9a25efd0ba'}, ...   \n",
              "2            BAKING  {'$id': {'$oid': '601ac142be37ce2ead437559'}, ...   \n",
              "3            BAKING  {'$id': {'$oid': '601ac142be37ce2ead437559'}, ...   \n",
              "4  CANDY_AND_SWEETS  {'$id': {'$oid': '5332fa12e4b03c9a25efd1e7'}, ...   \n",
              "\n",
              "                        name topBrand                      brandCode  \n",
              "0  test brand @1612366101024    False                            NaN  \n",
              "1                  Starbucks    False                      STARBUCKS  \n",
              "2  test brand @1612366146176    False  TEST BRANDCODE @1612366146176  \n",
              "3  test brand @1612366146051    False  TEST BRANDCODE @1612366146051  \n",
              "4  test brand @1612366146827    False  TEST BRANDCODE @1612366146827  "
            ],
            "text/html": [
              "\n",
              "  <div id=\"df-8549d630-6302-4907-ba42-ab78567ca262\" class=\"colab-df-container\">\n",
              "    <div>\n",
              "<style scoped>\n",
              "    .dataframe tbody tr th:only-of-type {\n",
              "        vertical-align: middle;\n",
              "    }\n",
              "\n",
              "    .dataframe tbody tr th {\n",
              "        vertical-align: top;\n",
              "    }\n",
              "\n",
              "    .dataframe thead th {\n",
              "        text-align: right;\n",
              "    }\n",
              "</style>\n",
              "<table border=\"1\" class=\"dataframe\">\n",
              "  <thead>\n",
              "    <tr style=\"text-align: right;\">\n",
              "      <th></th>\n",
              "      <th>_id</th>\n",
              "      <th>barcode</th>\n",
              "      <th>category</th>\n",
              "      <th>categoryCode</th>\n",
              "      <th>cpg</th>\n",
              "      <th>name</th>\n",
              "      <th>topBrand</th>\n",
              "      <th>brandCode</th>\n",
              "    </tr>\n",
              "  </thead>\n",
              "  <tbody>\n",
              "    <tr>\n",
              "      <th>0</th>\n",
              "      <td>{'$oid': '601ac115be37ce2ead437551'}</td>\n",
              "      <td>511111019862</td>\n",
              "      <td>Baking</td>\n",
              "      <td>BAKING</td>\n",
              "      <td>{'$id': {'$oid': '601ac114be37ce2ead437550'}, ...</td>\n",
              "      <td>test brand @1612366101024</td>\n",
              "      <td>False</td>\n",
              "      <td>NaN</td>\n",
              "    </tr>\n",
              "    <tr>\n",
              "      <th>1</th>\n",
              "      <td>{'$oid': '601c5460be37ce2ead43755f'}</td>\n",
              "      <td>511111519928</td>\n",
              "      <td>Beverages</td>\n",
              "      <td>BEVERAGES</td>\n",
              "      <td>{'$id': {'$oid': '5332f5fbe4b03c9a25efd0ba'}, ...</td>\n",
              "      <td>Starbucks</td>\n",
              "      <td>False</td>\n",
              "      <td>STARBUCKS</td>\n",
              "    </tr>\n",
              "    <tr>\n",
              "      <th>2</th>\n",
              "      <td>{'$oid': '601ac142be37ce2ead43755d'}</td>\n",
              "      <td>511111819905</td>\n",
              "      <td>Baking</td>\n",
              "      <td>BAKING</td>\n",
              "      <td>{'$id': {'$oid': '601ac142be37ce2ead437559'}, ...</td>\n",
              "      <td>test brand @1612366146176</td>\n",
              "      <td>False</td>\n",
              "      <td>TEST BRANDCODE @1612366146176</td>\n",
              "    </tr>\n",
              "    <tr>\n",
              "      <th>3</th>\n",
              "      <td>{'$oid': '601ac142be37ce2ead43755a'}</td>\n",
              "      <td>511111519874</td>\n",
              "      <td>Baking</td>\n",
              "      <td>BAKING</td>\n",
              "      <td>{'$id': {'$oid': '601ac142be37ce2ead437559'}, ...</td>\n",
              "      <td>test brand @1612366146051</td>\n",
              "      <td>False</td>\n",
              "      <td>TEST BRANDCODE @1612366146051</td>\n",
              "    </tr>\n",
              "    <tr>\n",
              "      <th>4</th>\n",
              "      <td>{'$oid': '601ac142be37ce2ead43755e'}</td>\n",
              "      <td>511111319917</td>\n",
              "      <td>Candy &amp; Sweets</td>\n",
              "      <td>CANDY_AND_SWEETS</td>\n",
              "      <td>{'$id': {'$oid': '5332fa12e4b03c9a25efd1e7'}, ...</td>\n",
              "      <td>test brand @1612366146827</td>\n",
              "      <td>False</td>\n",
              "      <td>TEST BRANDCODE @1612366146827</td>\n",
              "    </tr>\n",
              "  </tbody>\n",
              "</table>\n",
              "</div>\n",
              "    <div class=\"colab-df-buttons\">\n",
              "\n",
              "  <div class=\"colab-df-container\">\n",
              "    <button class=\"colab-df-convert\" onclick=\"convertToInteractive('df-8549d630-6302-4907-ba42-ab78567ca262')\"\n",
              "            title=\"Convert this dataframe to an interactive table.\"\n",
              "            style=\"display:none;\">\n",
              "\n",
              "  <svg xmlns=\"http://www.w3.org/2000/svg\" height=\"24px\" viewBox=\"0 -960 960 960\">\n",
              "    <path d=\"M120-120v-720h720v720H120Zm60-500h600v-160H180v160Zm220 220h160v-160H400v160Zm0 220h160v-160H400v160ZM180-400h160v-160H180v160Zm440 0h160v-160H620v160ZM180-180h160v-160H180v160Zm440 0h160v-160H620v160Z\"/>\n",
              "  </svg>\n",
              "    </button>\n",
              "\n",
              "  <style>\n",
              "    .colab-df-container {\n",
              "      display:flex;\n",
              "      gap: 12px;\n",
              "    }\n",
              "\n",
              "    .colab-df-convert {\n",
              "      background-color: #E8F0FE;\n",
              "      border: none;\n",
              "      border-radius: 50%;\n",
              "      cursor: pointer;\n",
              "      display: none;\n",
              "      fill: #1967D2;\n",
              "      height: 32px;\n",
              "      padding: 0 0 0 0;\n",
              "      width: 32px;\n",
              "    }\n",
              "\n",
              "    .colab-df-convert:hover {\n",
              "      background-color: #E2EBFA;\n",
              "      box-shadow: 0px 1px 2px rgba(60, 64, 67, 0.3), 0px 1px 3px 1px rgba(60, 64, 67, 0.15);\n",
              "      fill: #174EA6;\n",
              "    }\n",
              "\n",
              "    .colab-df-buttons div {\n",
              "      margin-bottom: 4px;\n",
              "    }\n",
              "\n",
              "    [theme=dark] .colab-df-convert {\n",
              "      background-color: #3B4455;\n",
              "      fill: #D2E3FC;\n",
              "    }\n",
              "\n",
              "    [theme=dark] .colab-df-convert:hover {\n",
              "      background-color: #434B5C;\n",
              "      box-shadow: 0px 1px 3px 1px rgba(0, 0, 0, 0.15);\n",
              "      filter: drop-shadow(0px 1px 2px rgba(0, 0, 0, 0.3));\n",
              "      fill: #FFFFFF;\n",
              "    }\n",
              "  </style>\n",
              "\n",
              "    <script>\n",
              "      const buttonEl =\n",
              "        document.querySelector('#df-8549d630-6302-4907-ba42-ab78567ca262 button.colab-df-convert');\n",
              "      buttonEl.style.display =\n",
              "        google.colab.kernel.accessAllowed ? 'block' : 'none';\n",
              "\n",
              "      async function convertToInteractive(key) {\n",
              "        const element = document.querySelector('#df-8549d630-6302-4907-ba42-ab78567ca262');\n",
              "        const dataTable =\n",
              "          await google.colab.kernel.invokeFunction('convertToInteractive',\n",
              "                                                    [key], {});\n",
              "        if (!dataTable) return;\n",
              "\n",
              "        const docLinkHtml = 'Like what you see? Visit the ' +\n",
              "          '<a target=\"_blank\" href=https://colab.research.google.com/notebooks/data_table.ipynb>data table notebook</a>'\n",
              "          + ' to learn more about interactive tables.';\n",
              "        element.innerHTML = '';\n",
              "        dataTable['output_type'] = 'display_data';\n",
              "        await google.colab.output.renderOutput(dataTable, element);\n",
              "        const docLink = document.createElement('div');\n",
              "        docLink.innerHTML = docLinkHtml;\n",
              "        element.appendChild(docLink);\n",
              "      }\n",
              "    </script>\n",
              "  </div>\n",
              "\n",
              "\n",
              "<div id=\"df-9ba526fb-1c0d-45c9-b30f-80de0cdb64a7\">\n",
              "  <button class=\"colab-df-quickchart\" onclick=\"quickchart('df-9ba526fb-1c0d-45c9-b30f-80de0cdb64a7')\"\n",
              "            title=\"Suggest charts\"\n",
              "            style=\"display:none;\">\n",
              "\n",
              "<svg xmlns=\"http://www.w3.org/2000/svg\" height=\"24px\"viewBox=\"0 0 24 24\"\n",
              "     width=\"24px\">\n",
              "    <g>\n",
              "        <path d=\"M19 3H5c-1.1 0-2 .9-2 2v14c0 1.1.9 2 2 2h14c1.1 0 2-.9 2-2V5c0-1.1-.9-2-2-2zM9 17H7v-7h2v7zm4 0h-2V7h2v10zm4 0h-2v-4h2v4z\"/>\n",
              "    </g>\n",
              "</svg>\n",
              "  </button>\n",
              "\n",
              "<style>\n",
              "  .colab-df-quickchart {\n",
              "      --bg-color: #E8F0FE;\n",
              "      --fill-color: #1967D2;\n",
              "      --hover-bg-color: #E2EBFA;\n",
              "      --hover-fill-color: #174EA6;\n",
              "      --disabled-fill-color: #AAA;\n",
              "      --disabled-bg-color: #DDD;\n",
              "  }\n",
              "\n",
              "  [theme=dark] .colab-df-quickchart {\n",
              "      --bg-color: #3B4455;\n",
              "      --fill-color: #D2E3FC;\n",
              "      --hover-bg-color: #434B5C;\n",
              "      --hover-fill-color: #FFFFFF;\n",
              "      --disabled-bg-color: #3B4455;\n",
              "      --disabled-fill-color: #666;\n",
              "  }\n",
              "\n",
              "  .colab-df-quickchart {\n",
              "    background-color: var(--bg-color);\n",
              "    border: none;\n",
              "    border-radius: 50%;\n",
              "    cursor: pointer;\n",
              "    display: none;\n",
              "    fill: var(--fill-color);\n",
              "    height: 32px;\n",
              "    padding: 0;\n",
              "    width: 32px;\n",
              "  }\n",
              "\n",
              "  .colab-df-quickchart:hover {\n",
              "    background-color: var(--hover-bg-color);\n",
              "    box-shadow: 0 1px 2px rgba(60, 64, 67, 0.3), 0 1px 3px 1px rgba(60, 64, 67, 0.15);\n",
              "    fill: var(--button-hover-fill-color);\n",
              "  }\n",
              "\n",
              "  .colab-df-quickchart-complete:disabled,\n",
              "  .colab-df-quickchart-complete:disabled:hover {\n",
              "    background-color: var(--disabled-bg-color);\n",
              "    fill: var(--disabled-fill-color);\n",
              "    box-shadow: none;\n",
              "  }\n",
              "\n",
              "  .colab-df-spinner {\n",
              "    border: 2px solid var(--fill-color);\n",
              "    border-color: transparent;\n",
              "    border-bottom-color: var(--fill-color);\n",
              "    animation:\n",
              "      spin 1s steps(1) infinite;\n",
              "  }\n",
              "\n",
              "  @keyframes spin {\n",
              "    0% {\n",
              "      border-color: transparent;\n",
              "      border-bottom-color: var(--fill-color);\n",
              "      border-left-color: var(--fill-color);\n",
              "    }\n",
              "    20% {\n",
              "      border-color: transparent;\n",
              "      border-left-color: var(--fill-color);\n",
              "      border-top-color: var(--fill-color);\n",
              "    }\n",
              "    30% {\n",
              "      border-color: transparent;\n",
              "      border-left-color: var(--fill-color);\n",
              "      border-top-color: var(--fill-color);\n",
              "      border-right-color: var(--fill-color);\n",
              "    }\n",
              "    40% {\n",
              "      border-color: transparent;\n",
              "      border-right-color: var(--fill-color);\n",
              "      border-top-color: var(--fill-color);\n",
              "    }\n",
              "    60% {\n",
              "      border-color: transparent;\n",
              "      border-right-color: var(--fill-color);\n",
              "    }\n",
              "    80% {\n",
              "      border-color: transparent;\n",
              "      border-right-color: var(--fill-color);\n",
              "      border-bottom-color: var(--fill-color);\n",
              "    }\n",
              "    90% {\n",
              "      border-color: transparent;\n",
              "      border-bottom-color: var(--fill-color);\n",
              "    }\n",
              "  }\n",
              "</style>\n",
              "\n",
              "  <script>\n",
              "    async function quickchart(key) {\n",
              "      const quickchartButtonEl =\n",
              "        document.querySelector('#' + key + ' button');\n",
              "      quickchartButtonEl.disabled = true;  // To prevent multiple clicks.\n",
              "      quickchartButtonEl.classList.add('colab-df-spinner');\n",
              "      try {\n",
              "        const charts = await google.colab.kernel.invokeFunction(\n",
              "            'suggestCharts', [key], {});\n",
              "      } catch (error) {\n",
              "        console.error('Error during call to suggestCharts:', error);\n",
              "      }\n",
              "      quickchartButtonEl.classList.remove('colab-df-spinner');\n",
              "      quickchartButtonEl.classList.add('colab-df-quickchart-complete');\n",
              "    }\n",
              "    (() => {\n",
              "      let quickchartButtonEl =\n",
              "        document.querySelector('#df-9ba526fb-1c0d-45c9-b30f-80de0cdb64a7 button');\n",
              "      quickchartButtonEl.style.display =\n",
              "        google.colab.kernel.accessAllowed ? 'block' : 'none';\n",
              "    })();\n",
              "  </script>\n",
              "</div>\n",
              "\n",
              "    </div>\n",
              "  </div>\n"
            ],
            "application/vnd.google.colaboratory.intrinsic+json": {
              "type": "dataframe",
              "variable_name": "brands_df",
              "summary": "{\n  \"name\": \"brands_df\",\n  \"rows\": 1167,\n  \"fields\": [\n    {\n      \"column\": \"_id\",\n      \"properties\": {\n        \"dtype\": \"string\",\n        \"num_unique_values\": 1167,\n        \"samples\": [\n          \"{'$oid': '53501d29b9237fd7718f9e16'}\",\n          \"{'$oid': '5332fa08e4b03c9a25efd1d9'}\",\n          \"{'$oid': '5c76d3cd95144c5375687b4f'}\"\n        ],\n        \"semantic_type\": \"\",\n        \"description\": \"\"\n      }\n    },\n    {\n      \"column\": \"barcode\",\n      \"properties\": {\n        \"dtype\": \"string\",\n        \"num_unique_values\": 1160,\n        \"samples\": [\n          \"511111203049\",\n          \"511111716648\",\n          \"511111801245\"\n        ],\n        \"semantic_type\": \"\",\n        \"description\": \"\"\n      }\n    },\n    {\n      \"column\": \"category\",\n      \"properties\": {\n        \"dtype\": \"category\",\n        \"num_unique_values\": 23,\n        \"samples\": [\n          \"Personal Care\",\n          \"Beauty\",\n          \"Baking\"\n        ],\n        \"semantic_type\": \"\",\n        \"description\": \"\"\n      }\n    },\n    {\n      \"column\": \"categoryCode\",\n      \"properties\": {\n        \"dtype\": \"category\",\n        \"num_unique_values\": 14,\n        \"samples\": [\n          \"BREAD_AND_BAKERY\",\n          \"DAIRY_AND_REFRIGERATED\",\n          \"BAKING\"\n        ],\n        \"semantic_type\": \"\",\n        \"description\": \"\"\n      }\n    },\n    {\n      \"column\": \"cpg\",\n      \"properties\": {\n        \"dtype\": \"category\",\n        \"num_unique_values\": 206,\n        \"samples\": [\n          \"{'$ref': 'Cogs', '$id': {'$oid': '5332f5f6e4b03c9a25efd0b4'}}\",\n          \"{'$ref': 'Cogs', '$id': {'$oid': '5d5d4fd16d5f3b23d1bc7905'}}\",\n          \"{'$ref': 'Cogs', '$id': {'$oid': '5f7ba914be37ce2f290fb24f'}}\"\n        ],\n        \"semantic_type\": \"\",\n        \"description\": \"\"\n      }\n    },\n    {\n      \"column\": \"name\",\n      \"properties\": {\n        \"dtype\": \"string\",\n        \"num_unique_values\": 1156,\n        \"samples\": [\n          \"Bayer\\u00ae ASPRIN TAB/ CAPS/ CHEWS\",\n          \"Colorado Native\",\n          \"Chester's\"\n        ],\n        \"semantic_type\": \"\",\n        \"description\": \"\"\n      }\n    },\n    {\n      \"column\": \"topBrand\",\n      \"properties\": {\n        \"dtype\": \"category\",\n        \"num_unique_values\": 2,\n        \"samples\": [\n          true,\n          false\n        ],\n        \"semantic_type\": \"\",\n        \"description\": \"\"\n      }\n    },\n    {\n      \"column\": \"brandCode\",\n      \"properties\": {\n        \"dtype\": \"string\",\n        \"num_unique_values\": 897,\n        \"samples\": [\n          \"AMPTEST\",\n          \"NUT HARVEST\"\n        ],\n        \"semantic_type\": \"\",\n        \"description\": \"\"\n      }\n    }\n  ]\n}"
            }
          },
          "metadata": {},
          "execution_count": 15
        }
      ]
    },
    {
      "cell_type": "code",
      "source": [
        "# Check for duplicate rows\n",
        "duplicate_rows = brands_df[brands_df.duplicated()]\n",
        "print(f\"Number of duplicate rows: {len(duplicate_rows)}\")\n",
        "\n",
        "# Check for missing values\n",
        "null_percent = round((brands_df.isna().sum() / brands_df.shape[0]) * 100, 2)\n",
        "print(null_percent)"
      ],
      "metadata": {
        "colab": {
          "base_uri": "https://localhost:8080/"
        },
        "id": "NFsPaSk_gbgX",
        "outputId": "c8b62f08-1151-4812-dd3a-8945bc1bdfd8"
      },
      "execution_count": 16,
      "outputs": [
        {
          "output_type": "stream",
          "name": "stdout",
          "text": [
            "Number of duplicate rows: 0\n",
            "_id              0.00\n",
            "barcode          0.00\n",
            "category        13.28\n",
            "categoryCode    55.70\n",
            "cpg              0.00\n",
            "name             0.00\n",
            "topBrand        52.44\n",
            "brandCode       20.05\n",
            "dtype: float64\n"
          ]
        }
      ]
    },
    {
      "cell_type": "markdown",
      "source": [
        "**From the above, we can see that:**\n",
        "*   **TopBrand and categoryCode have over 50% nulls values**\n",
        "*   **While brandCode and category have 20% and 13% null values respectively**\n"
      ],
      "metadata": {
        "id": "4G5Eo0-zSfx2"
      }
    },
    {
      "cell_type": "markdown",
      "source": [
        "### Receipts Dataset"
      ],
      "metadata": {
        "id": "6JqYGXVxRd6g"
      }
    },
    {
      "cell_type": "code",
      "source": [
        "# loading brands dataset\n",
        "receipts = []\n",
        "with open('receipts.json', 'r') as file:\n",
        "    for line in file:\n",
        "        receipts.append(json.loads(line))\n",
        "\n",
        "receipts_df = pd.DataFrame(receipts)"
      ],
      "metadata": {
        "id": "GQOrdSbdgek1"
      },
      "execution_count": 28,
      "outputs": []
    },
    {
      "cell_type": "code",
      "source": [
        "# exploading the dictionary\n",
        "receipts_df = receipts_df.explode('rewardsReceiptItemList')\n",
        "receipts_df.reset_index(inplace=True)"
      ],
      "metadata": {
        "id": "ktOVjG8ei7CA"
      },
      "execution_count": 30,
      "outputs": []
    },
    {
      "cell_type": "code",
      "source": [
        "# cheking columns with dictionary values\n",
        "for column in receipts_df.columns:\n",
        "    if receipts_df[column].apply(lambda x: isinstance(x, dict)).any():\n",
        "        print(f\"Column '{column}' contains dictionary values.\")"
      ],
      "metadata": {
        "colab": {
          "base_uri": "https://localhost:8080/"
        },
        "id": "RiprVQs0iLLq",
        "outputId": "7ba7d50e-470d-403b-a884-7cb4756924eb"
      },
      "execution_count": 31,
      "outputs": [
        {
          "output_type": "stream",
          "name": "stdout",
          "text": [
            "Column '_id' contains dictionary values.\n",
            "Column 'createDate' contains dictionary values.\n",
            "Column 'dateScanned' contains dictionary values.\n",
            "Column 'finishedDate' contains dictionary values.\n",
            "Column 'modifyDate' contains dictionary values.\n",
            "Column 'pointsAwardedDate' contains dictionary values.\n",
            "Column 'purchaseDate' contains dictionary values.\n",
            "Column 'rewardsReceiptItemList' contains dictionary values.\n"
          ]
        }
      ]
    },
    {
      "cell_type": "code",
      "source": [
        "# converting them to string for evaluating\n",
        "receipts_df[\"_id\"] = receipts_df[\"_id\"].apply(lambda x: str(x))\n",
        "receipts_df[\"createDate\"] = receipts_df[\"createDate\"].apply(lambda x: str(x))\n",
        "receipts_df[\"dateScanned\"] = receipts_df[\"dateScanned\"].apply(lambda x: str(x))\n",
        "receipts_df[\"finishedDate\"] = receipts_df[\"finishedDate\"].apply(lambda x: str(x))\n",
        "receipts_df[\"modifyDate\"] = receipts_df[\"modifyDate\"].apply(lambda x: str(x))\n",
        "receipts_df[\"pointsAwardedDate\"] = receipts_df[\"pointsAwardedDate\"].apply(lambda x: str(x))\n",
        "receipts_df[\"purchaseDate\"] = receipts_df[\"purchaseDate\"].apply(lambda x: str(x))\n",
        "receipts_df[\"rewardsReceiptItemList\"] = receipts_df[\"rewardsReceiptItemList\"].apply(lambda x: str(x))"
      ],
      "metadata": {
        "id": "4p3p4shkiOYb"
      },
      "execution_count": 32,
      "outputs": []
    },
    {
      "cell_type": "code",
      "source": [
        "# Check for duplicate rows\n",
        "duplicate_rows = receipts_df[receipts_df.duplicated()]\n",
        "print(f\"Number of duplicate rows: {len(duplicate_rows)}\")\n",
        "\n",
        "# Check for missing values\n",
        "null_percent = round((receipts_df.isna().sum() / receipts_df.shape[0]) * 100, 2)\n",
        "print(null_percent)"
      ],
      "metadata": {
        "colab": {
          "base_uri": "https://localhost:8080/"
        },
        "id": "mnrqWbsrijQv",
        "outputId": "c3dced18-23ec-45f4-fcb6-9fee9a6a22a0"
      },
      "execution_count": 33,
      "outputs": [
        {
          "output_type": "stream",
          "name": "stdout",
          "text": [
            "Number of duplicate rows: 0\n",
            "index                       0.00\n",
            "_id                         0.00\n",
            "bonusPointsEarned          18.98\n",
            "bonusPointsEarnedReason    18.98\n",
            "createDate                  0.00\n",
            "dateScanned                 0.00\n",
            "finishedDate                0.00\n",
            "modifyDate                  0.00\n",
            "pointsAwardedDate           0.00\n",
            "pointsEarned               15.28\n",
            "purchaseDate                0.00\n",
            "purchasedItemCount          6.56\n",
            "rewardsReceiptItemList      0.00\n",
            "rewardsReceiptStatus        0.00\n",
            "totalSpent                  5.89\n",
            "userId                      0.00\n",
            "dtype: float64\n"
          ]
        }
      ]
    },
    {
      "cell_type": "markdown",
      "source": [
        "**From the above we can see that:**\n",
        "* **bonusPointsEarned and bonusPointsEarnedReason have around 19% nulls**\n",
        "* **pointsEarned and totalSpent have 15 and 6% nulls respectively**\n",
        "* **There were no duplicate rows found in the data**"
      ],
      "metadata": {
        "id": "i1GbKRAyv3Lg"
      }
    },
    {
      "cell_type": "markdown",
      "source": [
        "### **Note:**\n",
        "Apart from this there were many other data quality issues found in the receipts datasets, mainly under the rewardsReceiptItemList. Some of them are:\n",
        "* No brand related columns present in the receipt which can be used to join the items to a specific product in brands table\n",
        "* Duplicate receipt items are present under same receipt, instead of increasing the quantityPurchased value.\n",
        "* Data inconsistencies found, many columns are missing in the dataset\n",
        "* Barcode present in receipts table is not same as the barcode present in brands table"
      ],
      "metadata": {
        "id": "FZVUtVz6whub"
      }
    }
  ]
}
